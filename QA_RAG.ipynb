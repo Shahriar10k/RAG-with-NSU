{
  "cells": [
    {
      "cell_type": "markdown",
      "metadata": {
        "id": "view-in-github",
        "colab_type": "text"
      },
      "source": [
        "<a href=\"https://colab.research.google.com/github/Shahriar10k/RAG-with-NSU/blob/main/QA_RAG.ipynb\" target=\"_parent\"><img src=\"https://colab.research.google.com/assets/colab-badge.svg\" alt=\"Open In Colab\"/></a>"
      ]
    },
    {
      "cell_type": "markdown",
      "metadata": {
        "id": "oAO37-iQ5nQG"
      },
      "source": [
        "# **1. Import the files from drive**\n",
        " Using gdown [https://github.com/wkentaro/gdown]\n"
      ]
    },
    {
      "cell_type": "code",
      "execution_count": null,
      "metadata": {
        "colab": {
          "base_uri": "https://localhost:8080/"
        },
        "id": "JB_A1F1j51w1",
        "outputId": "e752a8b8-26d2-470f-81df-0d2f2ecf415f"
      },
      "outputs": [
        {
          "output_type": "stream",
          "name": "stderr",
          "text": [
            "Downloading...\n",
            "From: https://drive.google.com/uc?id=1S1fzhVdTaV7Xgk35thav_3IJENOBA0Si\n",
            "To: /content/test_articles.zip\n",
            "100%|██████████| 70.9k/70.9k [00:00<00:00, 12.1MB/s]"
          ]
        },
        {
          "output_type": "stream",
          "name": "stdout",
          "text": [
            "Completed.....\n"
          ]
        },
        {
          "output_type": "stream",
          "name": "stderr",
          "text": [
            "\n"
          ]
        }
      ],
      "source": [
        "import gdown\n",
        "\n",
        "#Specify the name to be given to the file locally\n",
        "output= 'test_articles.zip'\n",
        "\n",
        "#Specify the Google drive ID of the folder\n",
        "file_id = '1S1fzhVdTaV7Xgk35thav_3IJENOBA0Si'\n",
        "#Download the file\n",
        "gdown.download('https://drive.google.com/uc?id='+file_id,output, quiet=False)\n",
        "\n",
        "print(\"Completed.....\")"
      ]
    },
    {
      "cell_type": "markdown",
      "metadata": {
        "id": "m8ob7G0f9WFO"
      },
      "source": [
        "Unzip the folder and find articles"
      ]
    },
    {
      "cell_type": "code",
      "execution_count": null,
      "metadata": {
        "id": "CWvLs_Sf527B"
      },
      "outputs": [],
      "source": [
        "import shutil\n",
        "shutil.unpack_archive(\"test_articles.zip\", \"./\")"
      ]
    },
    {
      "cell_type": "markdown",
      "metadata": {
        "id": "2hFYYn-K-QaX"
      },
      "source": [
        "Read in each of the articles and use the filename as article title"
      ]
    },
    {
      "cell_type": "code",
      "execution_count": null,
      "metadata": {
        "colab": {
          "base_uri": "https://localhost:8080/"
        },
        "id": "eo7I8-eH-Pyj",
        "outputId": "cc4235a2-7fbb-41f6-8315-123c789c864c"
      },
      "outputs": [
        {
          "output_type": "stream",
          "name": "stdout",
          "text": [
            "Reading in all articles.....\n",
            " Done.\n",
            "\n",
            " There are 154 articles.\n"
          ]
        }
      ],
      "source": [
        "import os\n",
        "import urllib\n",
        "\n",
        "titles = []\n",
        "articles = []\n",
        "\n",
        "print('Reading in all articles.....')\n",
        "\n",
        "i=0\n",
        "\n",
        "#Read for each of the files in the subdirectory....\n",
        "for filename in os.listdir(\"./499Dataset/\"):\n",
        "\n",
        "    #Skip non text files\n",
        "    if not filename[-3:] == \"txt\":\n",
        "      continue\n",
        "\n",
        "    #Open the file\n",
        "    with open(\"499Dataset/\"+ filename, \"rb\") as f:\n",
        "        # Use the file name as the article title (strip the \".txt\")\n",
        "         titles.append(filename[:-4])\n",
        "\n",
        "         # Read in the article text.\n",
        "         articles.append(f.read().decode('utf-8'))\n",
        "\n",
        "print(' Done.\\n')\n",
        "\n",
        "print(' There are {:,} articles.' .format(len(articles)))"
      ]
    },
    {
      "cell_type": "code",
      "execution_count": null,
      "metadata": {
        "colab": {
          "base_uri": "https://localhost:8080/"
        },
        "id": "A5cTWjUFCVI1",
        "outputId": "db5c47b1-9628-4f39-d60f-5ca3f4589480"
      },
      "outputs": [
        {
          "output_type": "stream",
          "name": "stdout",
          "text": [
            "Dr. Mohammad Nazmul Islam(Nzu)\n",
            "\n",
            "...........Context start........\n",
            "\n",
            "Dr. Mohammad Nazmul Islam\r\n",
            "Ph.D., The University of Tokyo, Japan, 2004\r\n",
            "M. Sc. Engg., National University of Singapore, Singapore, 2001\r\n",
            "B. Sc. in Civil Engineering, Bangladesh University of Engineering and Technology (BUET),1998\r\n",
            "\r\n",
            "Phone is\r\n",
            "Email is mohammad.islam@northsouth.edu\r\n",
            "Office room is SAC 731\r\n",
            "\r\n",
            "Dr. Mohammad Nazmul Islam has build up his academic and research career on Structural Engineering since his undergraduate in 1998. His Master’s study and research included Finite Element Methods and Plate Structures, where he worked on computational mechanics of higher order plate theories. He finished all requirements for the M. Eng. degree within one year and conducted further research on deriving stability criteria for column buckling. His Ph.D. works dealt with Fracture Mechanics of Reinforced and Fiber Reinforced Concrete. He was one of the pioneers in the world to apply the Theory of Inverse Problems into fracture mechanical models of RC beams. He also conducted various experiments on RC beams into the Structural Engineering laboratory. He has numerous research articles in peer reviewed top ranked international journals and also presented papers in various conferences.\r\n",
            "\r\n",
            "Dr. Nazmul’s teaching expertise includes courses on Mechanics of Solids, Reinforced Concrete, and Structural Analysis and Design. He lectured on Mechanics of Materials in the Graduate School of the University of Tokyo. He also has lecturing experiences in Singapore, Japan, Taiwan, Malaysia and New Zealand. He worked as the Head of the Department of Civil Engineering, Presidency University, Dhaka for eight years (2005-2013) while he developed huge skills on lecturing and academic administration and fostered his research career on Structural Engineering. He joined CEED at NSU in 2013.\r\n",
            "\r\n",
            "Dr. Nazmul served as Sta Consultants in two projects of the Asian Development Bank (ADB). He also served Snowy Mountain Engineering Corporation (SMEC) as consultant on various infrastructure projects. Dr. Nazmul is a fellow of IEB and a member of International Society for Structural Health Monitoring of Intelligent Infrastructure. Dr. Nazmul voluntarily works for Road Safety in Bangladesh\n",
            "\n",
            "...........Context end........\n"
          ]
        }
      ],
      "source": [
        "print(titles[0])\n",
        "\n",
        "print(\"\\n...........Context start........\")\n",
        "print(\"\\n\"+articles[0])\n",
        "print(\"\\n...........Context end........\")"
      ]
    },
    {
      "cell_type": "markdown",
      "metadata": {
        "id": "eRiH4LNvDMNe"
      },
      "source": [
        "Text string example. \n",
        "*\\n, \\r will be dropped by BERT's tokenizer*"
      ]
    },
    {
      "cell_type": "code",
      "execution_count": null,
      "metadata": {
        "colab": {
          "base_uri": "https://localhost:8080/",
          "height": 89
        },
        "id": "aKydBRhmDHLC",
        "outputId": "e8c9f37b-2c51-4a56-e392-19145d7936b2"
      },
      "outputs": [
        {
          "output_type": "execute_result",
          "data": {
            "text/plain": [
              "'CEE 439 Earthquake Resistant Structures\\r\\nTheory and application of structural dynamics for single and multiple degree-of-freedom models of buildings subjected to earthquake ground motion. Characteristics of earthquake ground motion and design spectra. Concepts of overall seismic design of buildings, load paths, and proportioning and ductile detailing of members to achieve satisfactory seismic response. Prerequisite: CEE431, MAT260, MAT350. 3 credits.'"
            ],
            "application/vnd.google.colaboratory.intrinsic+json": {
              "type": "string"
            }
          },
          "metadata": {},
          "execution_count": 4
        }
      ],
      "source": [
        "articles[1]"
      ]
    },
    {
      "cell_type": "markdown",
      "metadata": {
        "id": "brWT5B4wD1tJ"
      },
      "source": [
        "# **2. Chunk Articles**\n",
        "The script took the appoach to split the article on whitespace and then selecting 100 words at a time.\n",
        "100 words can then be split into multiple tokens by the tokenizer but the BERT's token limit is 512.\n"
      ]
    },
    {
      "cell_type": "code",
      "execution_count": null,
      "metadata": {
        "colab": {
          "base_uri": "https://localhost:8080/"
        },
        "id": "RtwTH1VTDxPL",
        "outputId": "c0faec67-8595-4a93-de95-4594fd7e6511"
      },
      "outputs": [
        {
          "output_type": "stream",
          "name": "stdout",
          "text": [
            "Before splitting, 154 articles.\n",
            "\n",
            "Splitting.........\n",
            " Done.\n",
            "\n",
            "After splitting, 370 \"passages\".\n"
          ]
        }
      ],
      "source": [
        "print('Before splitting, {:,} articles.\\n'.format(len(titles)))\n",
        "\n",
        "#Two lists : titles and articles\n",
        "\n",
        "passage_titles = []\n",
        "passages = []\n",
        "\n",
        "print(\"Splitting.........\")\n",
        "\n",
        "#For each article and its title....\n",
        "\n",
        "for i in range(len(titles)):\n",
        "\n",
        "    title = titles[i]\n",
        "    article = articles[i]\n",
        "\n",
        "    #Skip if there is no content or empty\n",
        "    if len(articles) == 0:\n",
        "      print(\"Skipping empty article:\", title)\n",
        "      continue\n",
        "\n",
        "    #Split the text on white space.\n",
        "    #By default, this will remove all whitespace, including newline tab and \n",
        "    #characters\n",
        "    words = article.split()\n",
        "    #print(\"words: \\n\")\n",
        "    #print(words)\n",
        "    #print(\"\\n\")\n",
        "\n",
        "    #Loop over the words, incrementing by 100.\n",
        "    for i in range(0, len(words),100):\n",
        "\n",
        "      #Select the next 100 words\n",
        "      #Python slices automatically stop at the end of the array.\n",
        "      chunk_words = words[i : i + 100]\n",
        "      #print(\"Chunk words: \\n\")\n",
        "      #print(chunk_words)\n",
        "      #print(\"\\n\")\n",
        "\n",
        "      #Recombine the words into a passage by joining with whitespace\n",
        "      chunk = \" \".join(chunk_words)\n",
        "\n",
        "      #Remove any trailing whitespace.\n",
        "      chunk = chunk.strip()\n",
        "\n",
        "      #To avoid a possible edge case, skip any empty chunks.\n",
        "      if len(chunk) == 0:\n",
        "        continue\n",
        "      \n",
        "      #Store the chunk. Every chunk in the article uses the article title\n",
        "    \n",
        "      #print(chunk)\n",
        "      passage_titles.append(title)\n",
        "      passages.append(chunk)\n",
        "\n",
        "print(' Done.\\n')\n",
        "\n",
        "chunked_corpus = {'title': passage_titles, 'text' : passages}\n",
        "\n",
        "print('After splitting, {:,} \"passages\".'.format(len(chunked_corpus['title'])))\n",
        "\n",
        "\n"
      ]
    },
    {
      "cell_type": "markdown",
      "metadata": {
        "id": "dPGg53ciKMb0"
      },
      "source": [
        "###**2.1 DataFrame**\n"
      ]
    },
    {
      "cell_type": "code",
      "execution_count": null,
      "metadata": {
        "id": "a879YbViKarV"
      },
      "outputs": [],
      "source": [
        "import pandas as pd\n",
        "\n",
        "df = pd.DataFrame(chunked_corpus)\n",
        "\n",
        "#Write it out to disk.\n",
        "df.to_csv(r\"/content/curated_dataset.csv\" ,sep=',', index=False)"
      ]
    },
    {
      "cell_type": "markdown",
      "metadata": {
        "id": "cH5LEM1LOGwU"
      },
      "source": [
        "# **3. Create DPR Embeddings**\n",
        "Feed the passages into BERT and generate embeddings.\n",
        "Steps - \n",
        "\n",
        "\n",
        "1.   The **Tokenizer** will break the passages into tokens and replace them with token IDs.\n",
        "2.   The **Enocder** will feed each passage's token IDs thorugh a BERT type model to generate an embedding for each passage.\n",
        "\n",
        "\n",
        "\n",
        "\n",
        "\n",
        "\n"
      ]
    },
    {
      "cell_type": "markdown",
      "metadata": {
        "id": "OsVRHqyeYtaN"
      },
      "source": [
        "### **3.1 Tokenization**\n",
        "\n",
        "The first step is tokenization. \n",
        "Load the model \n",
        "\n",
        "```\n",
        "# from_pretrained\n",
        "```\n",
        "from huggingface's online repository of models.\n",
        "Two different version of the DPR model.\n",
        "\n",
        "*   'facebook/dpr-ctx_encoder-single-nq-base' - This version was trained only on Google's Natural Questions dataset.\n",
        "*   'facebook/dpr-ctx_encoder-multiset-base' - This version was trained on multiple question answering datasets."
      ]
    },
    {
      "cell_type": "code",
      "execution_count": null,
      "metadata": {
        "colab": {
          "base_uri": "https://localhost:8080/"
        },
        "id": "aE1mqX9aRTJ2",
        "outputId": "a3a200bd-80de-481d-c69d-6f05b5e794bf"
      },
      "outputs": [
        {
          "output_type": "stream",
          "name": "stdout",
          "text": [
            "Looking in indexes: https://pypi.org/simple, https://us-python.pkg.dev/colab-wheels/public/simple/\n",
            "Requirement already satisfied: faiss-cpu in /usr/local/lib/python3.7/dist-packages (1.7.2)\n",
            "Looking in indexes: https://pypi.org/simple, https://us-python.pkg.dev/colab-wheels/public/simple/\n",
            "Requirement already satisfied: transformers in /usr/local/lib/python3.7/dist-packages (4.21.0)\n",
            "Requirement already satisfied: tqdm>=4.27 in /usr/local/lib/python3.7/dist-packages (from transformers) (4.64.0)\n",
            "Requirement already satisfied: huggingface-hub<1.0,>=0.1.0 in /usr/local/lib/python3.7/dist-packages (from transformers) (0.8.1)\n",
            "Requirement already satisfied: importlib-metadata in /usr/local/lib/python3.7/dist-packages (from transformers) (4.12.0)\n",
            "Requirement already satisfied: tokenizers!=0.11.3,<0.13,>=0.11.1 in /usr/local/lib/python3.7/dist-packages (from transformers) (0.12.1)\n",
            "Requirement already satisfied: filelock in /usr/local/lib/python3.7/dist-packages (from transformers) (3.7.1)\n",
            "Requirement already satisfied: requests in /usr/local/lib/python3.7/dist-packages (from transformers) (2.23.0)\n",
            "Requirement already satisfied: numpy>=1.17 in /usr/local/lib/python3.7/dist-packages (from transformers) (1.21.6)\n",
            "Requirement already satisfied: pyyaml>=5.1 in /usr/local/lib/python3.7/dist-packages (from transformers) (6.0)\n",
            "Requirement already satisfied: packaging>=20.0 in /usr/local/lib/python3.7/dist-packages (from transformers) (21.3)\n",
            "Requirement already satisfied: regex!=2019.12.17 in /usr/local/lib/python3.7/dist-packages (from transformers) (2022.6.2)\n",
            "Requirement already satisfied: typing-extensions>=3.7.4.3 in /usr/local/lib/python3.7/dist-packages (from huggingface-hub<1.0,>=0.1.0->transformers) (4.1.1)\n",
            "Requirement already satisfied: pyparsing!=3.0.5,>=2.0.2 in /usr/local/lib/python3.7/dist-packages (from packaging>=20.0->transformers) (3.0.9)\n",
            "Requirement already satisfied: zipp>=0.5 in /usr/local/lib/python3.7/dist-packages (from importlib-metadata->transformers) (3.8.1)\n",
            "Requirement already satisfied: chardet<4,>=3.0.2 in /usr/local/lib/python3.7/dist-packages (from requests->transformers) (3.0.4)\n",
            "Requirement already satisfied: idna<3,>=2.5 in /usr/local/lib/python3.7/dist-packages (from requests->transformers) (2.10)\n",
            "Requirement already satisfied: certifi>=2017.4.17 in /usr/local/lib/python3.7/dist-packages (from requests->transformers) (2022.6.15)\n",
            "Requirement already satisfied: urllib3!=1.25.0,!=1.25.1,<1.26,>=1.21.1 in /usr/local/lib/python3.7/dist-packages (from requests->transformers) (1.25.11)\n"
          ]
        }
      ],
      "source": [
        "!pip install faiss-cpu\n",
        "!pip install transformers"
      ]
    },
    {
      "cell_type": "code",
      "execution_count": null,
      "metadata": {
        "colab": {
          "base_uri": "https://localhost:8080/"
        },
        "id": "mho9NPxZOoMG",
        "outputId": "c1ba4311-a2a0-46b9-d808-7307f0066af2"
      },
      "outputs": [
        {
          "output_type": "stream",
          "name": "stderr",
          "text": [
            "The tokenizer class you load from this checkpoint is not the same type as the class this function is called from. It may result in unexpected tokenization. \n",
            "The tokenizer class you load from this checkpoint is 'DPRQuestionEncoderTokenizer'. \n",
            "The class this function is called from is 'DPRContextEncoderTokenizerFast'.\n"
          ]
        }
      ],
      "source": [
        "from transformers import DPRContextEncoderTokenizerFast\n",
        "\n",
        "#Load the tokenizer\n",
        "ctx_tokenizer = DPRContextEncoderTokenizerFast.from_pretrained(\"facebook/dpr-ctx_encoder-multiset-base\")"
      ]
    },
    {
      "cell_type": "markdown",
      "metadata": {
        "id": "_tiC8SaDYzeT"
      },
      "source": [
        "Passing both  the passage text and the article title as arguments to the tokenizer\n",
        "\n",
        "[title] [sep] [passage]\n",
        "\n"
      ]
    },
    {
      "cell_type": "code",
      "execution_count": null,
      "metadata": {
        "colab": {
          "base_uri": "https://localhost:8080/"
        },
        "id": "YQu_cK2SV5Ax",
        "outputId": "a8c7e87b-7a54-4a2b-afa9-3c4692cc526a"
      },
      "outputs": [
        {
          "output_type": "stream",
          "name": "stdout",
          "text": [
            "Tokenizing 200 passages for DPR...\n",
            "__DONE__\n"
          ]
        }
      ],
      "source": [
        "#We're passing the tokenizer\n",
        "# 1. The titles\n",
        "# 2. The passages\n",
        "# 3. Parameters familiar from BERT tokenziers\n",
        "\n",
        "num_passages = len(chunked_corpus['title'])\n",
        "\n",
        "print('Tokenizing {:,} passages for DPR...'.format(num_passages))\n",
        "\n",
        "#Tokenize the whole dataset! \n",
        "\n",
        "outputs = ctx_tokenizer(\n",
        "    chunked_corpus[\"title\"],\n",
        "    chunked_corpus[\"text\"],\n",
        "    truncation = True,\n",
        "    padding=\"longest\",\n",
        "    return_tensors=\"pt\",\n",
        ")\n",
        "\n",
        "print('__DONE__')\n",
        "\n",
        "#'input_ids' holds the encoded tokens for the entire corpus.\n",
        "input_ids = outputs[\"input_ids\"]"
      ]
    },
    {
      "cell_type": "markdown",
      "metadata": {
        "id": "YPYhaD-FbrBV"
      },
      "source": [
        "Size of the tensors returned"
      ]
    },
    {
      "cell_type": "code",
      "execution_count": null,
      "metadata": {
        "colab": {
          "base_uri": "https://localhost:8080/"
        },
        "id": "UvmsJcnFbvUF",
        "outputId": "e94395b1-323f-4b9d-dc16-ef0e3fb06d75"
      },
      "outputs": [
        {
          "output_type": "stream",
          "name": "stdout",
          "text": [
            "torch.Size([200, 322])\n"
          ]
        }
      ],
      "source": [
        "print(input_ids.shape)\n"
      ]
    },
    {
      "cell_type": "markdown",
      "metadata": {
        "id": "IJuC_CASe8im"
      },
      "source": [
        "Torch size = longest title + passage "
      ]
    },
    {
      "cell_type": "markdown",
      "metadata": {
        "id": "gS20tfhqgvZs"
      },
      "source": [
        "### **3.2 Encoding (Generate Embeddings)**\n",
        "\n",
        "Different encoder for questions and context"
      ]
    },
    {
      "cell_type": "code",
      "execution_count": null,
      "metadata": {
        "colab": {
          "base_uri": "https://localhost:8080/"
        },
        "id": "arTFtGmYgsjB",
        "outputId": "595c7d53-b9c9-42b8-80bc-c0d9bd85506c"
      },
      "outputs": [
        {
          "output_type": "stream",
          "name": "stdout",
          "text": [
            "There are 1 GPU(s) available.\n",
            "We will use the GPU: Tesla T4\n"
          ]
        }
      ],
      "source": [
        "import torch\n",
        "\n",
        "#If there's a GPU available...\n",
        "if torch.cuda.is_available():\n",
        "    \n",
        "    #Use GPU\n",
        "    device=torch.device(\"cuda\")\n",
        "\n",
        "    print(\"There are %d GPU(s) available.\" % torch.cuda.device_count())\n",
        "\n",
        "    print(\"We will use the GPU:\", torch.cuda.get_device_name(0))\n",
        "\n",
        "#If no gpu\n",
        "else: \n",
        "    print(\"No GPU available!\")\n",
        "    device=torch.device(\"cpu\")"
      ]
    },
    {
      "cell_type": "markdown",
      "metadata": {
        "id": "ETkm3NASiAEz"
      },
      "source": [
        "Load the encoder, and move it onto the GPU. This will pull the model form the huggingface repository."
      ]
    },
    {
      "cell_type": "code",
      "execution_count": null,
      "metadata": {
        "colab": {
          "base_uri": "https://localhost:8080/"
        },
        "id": "ZMV91epfhl1u",
        "outputId": "c30e5b2c-99f7-4a5f-b173-894a035442d8"
      },
      "outputs": [
        {
          "output_type": "stream",
          "name": "stderr",
          "text": [
            "Some weights of the model checkpoint at facebook/dpr-ctx_encoder-multiset-base were not used when initializing DPRContextEncoder: ['ctx_encoder.bert_model.pooler.dense.bias', 'ctx_encoder.bert_model.pooler.dense.weight']\n",
            "- This IS expected if you are initializing DPRContextEncoder from the checkpoint of a model trained on another task or with another architecture (e.g. initializing a BertForSequenceClassification model from a BertForPreTraining model).\n",
            "- This IS NOT expected if you are initializing DPRContextEncoder from the checkpoint of a model that you expect to be exactly identical (initializing a BertForSequenceClassification model from a BertForSequenceClassification model).\n"
          ]
        }
      ],
      "source": [
        "#Import the DPR encoder, the model that will generate the embeddings.\n",
        "from transformers import DPRContextEncoder\n",
        "\n",
        "ctx_encoder = DPRContextEncoder.from_pretrained(\"facebook/dpr-ctx_encoder-multiset-base\")\n",
        "\n",
        "#Move the encoder model to the GPU\n",
        "ctx_encoder = ctx_encoder.to(device=device)\n"
      ]
    },
    {
      "cell_type": "markdown",
      "metadata": {
        "id": "MBrqiiNUixa9"
      },
      "source": [
        "### **3.3 Apply tokenized passage**\n",
        "Time count\n",
        "Format as hh:mm:ss"
      ]
    },
    {
      "cell_type": "code",
      "execution_count": null,
      "metadata": {
        "id": "dWvQ4vhfjQue"
      },
      "outputs": [],
      "source": [
        "import time \n",
        "import datetime\n",
        "def format_time(elapsed):\n",
        "  #Takes a time in seconds and returns a string hh:mm:ss\n",
        "  elapsed_rounded = int(round(elapsed))\n",
        "\n",
        "  #Format as hh:mm:ss\n",
        "  return str(datetime.timedelta(seconds=elapsed_rounded))\n",
        "\n"
      ]
    },
    {
      "cell_type": "markdown",
      "metadata": {
        "id": "nXvIE3iCkjgc"
      },
      "source": [
        "Apply our tokenized passages in the loaded model.\n",
        "\n",
        "We will be doing in batches due to GPU's limited memory. "
      ]
    },
    {
      "cell_type": "code",
      "execution_count": null,
      "metadata": {
        "colab": {
          "base_uri": "https://localhost:8080/"
        },
        "id": "XEJ45_mFk1N0",
        "outputId": "4678305a-3b51-4dc4-fe04-42ebd630b8e5"
      },
      "outputs": [
        {
          "output_type": "stream",
          "name": "stdout",
          "text": [
            "Generating embeddings for 200 passages....\n",
            "___DONE___\n"
          ]
        }
      ],
      "source": [
        "import time\n",
        "import math\n",
        "\n",
        "#We're running the model forward only, so no need for gradients.\n",
        "torch.set_grad_enabled(False)\n",
        "\n",
        "#Track elapsed time for progress updates\n",
        "t0=time.time()\n",
        "\n",
        "#Current batch track\n",
        "step = 0\n",
        "\n",
        "#How many passages to process per batch\n",
        "batch_size = 16\n",
        "\n",
        "#Get the number of passages in the dataset\n",
        "num_passages = input_ids.size()[0]\n",
        "\n",
        "#Calculate the number of batches in the dataset.\n",
        "num_batches = math.ceil(num_passages / batch_size)\n",
        "\n",
        "#Accumulate the embeds\n",
        "embeds_batches = []\n",
        "\n",
        "print('Generating embeddings for {:,} passages....'.format(num_passages))\n",
        "\n",
        "#For each batch of passage\n",
        "for i in range(0, num_passages, batch_size):\n",
        "\n",
        "    # Progress update every 100 batches.\n",
        "    if step % 100 == 0 and not step == 0:\n",
        "      # Calculate elapsed time in minutes.\n",
        "        elapsed = format_time (time.time() - t0)\n",
        "\n",
        "        #Print progress\n",
        "        print(' Batch{:>5,} of {:>5}. Elapsed: {:}.'.format(step, num_batches, elapsed))\n",
        "\n",
        "    #Select the next batch\n",
        "    batch_ids = input_ids[i:i + 16, :]\n",
        "\n",
        "    #Move them to the GPU.\n",
        "    batch_ids = batch_ids.to(device)\n",
        "\n",
        "    #Run the encoder!\n",
        "    outputs = ctx_encoder(\n",
        "        batch_ids,\n",
        "        return_dict = True\n",
        "    )\n",
        "\n",
        "    #The embeddings are in the field \"pooler_output\"\n",
        "    embeddings = outputs[\"pooler_output\"]\n",
        "\n",
        "    #Bring the embeddings back over form the GPU and convert to numpy out of pytorch\n",
        "    embeddings = embeddings.detach().cpu().numpy()\n",
        "\n",
        "    embeds_batches.append(embeddings)\n",
        "\n",
        "    step += 1\n",
        "\n",
        "print('___DONE___')\n",
        "\n",
        "\n"
      ]
    },
    {
      "cell_type": "markdown",
      "metadata": {
        "id": "ITZo36kTolUx"
      },
      "source": [
        "Combine results from all the batches.\n",
        "\n",
        "Print the final matrix size and see the length of the embeddings"
      ]
    },
    {
      "cell_type": "code",
      "execution_count": null,
      "metadata": {
        "colab": {
          "base_uri": "https://localhost:8080/"
        },
        "id": "fqRmspXtpz6s",
        "outputId": "776fa9bc-0aa9-4145-e1e9-05092570430f"
      },
      "outputs": [
        {
          "output_type": "stream",
          "name": "stdout",
          "text": [
            "Size of dataset embeddings: (200, 768)\n"
          ]
        }
      ],
      "source": [
        "import numpy as np\n",
        "\n",
        "#Combine the results across all the batches\n",
        "embeddings = np.concatenate(embeds_batches, axis=0)\n",
        "\n",
        "print('Size of dataset embeddings:', embeddings.shape)"
      ]
    },
    {
      "cell_type": "markdown",
      "metadata": {
        "id": "hI8kDShBqQOI"
      },
      "source": [
        "# **4. FAISS Index**\n",
        "\n",
        "Now we have our reference passages all converted into embeddings so next we need to perform similarity search between the question embedding and all of the the reference embeddings.\n",
        "\n",
        "**Facebook AI Similarity Search** is a library for performing **k-Neares Neighbor** (KNN) search\n",
        "\n",
        "> In the RAG paper it is refered as MIPS or **Maximum Inner-Product Search**. That means cosine similarity is used as metric for KNN.\n",
        "\n",
        "Main feature of FAISS is that it implements a number of **Approximate Nearest Neighbor(ANN)** techniques. KNN can be extremely computationally expensive to do \"brute force\" (depending the number of vectors and their lengths), so ANN techniques attempt to address this by approximating the search and sacrificing accuracy for speed. They also require that we first build an index for the collection of vectors that we'll be searching.\n",
        "\n"
      ]
    },
    {
      "cell_type": "markdown",
      "metadata": {
        "id": "aHL8gM0jsJ_i"
      },
      "source": [
        "### **4.1 Create Index**\n",
        "We need FAISS library installed, we did that [here](https://colab.research.google.com/drive/1Xx1Os1ZtijV4ykHym0mYxb--3-rE62zr#scrollTo=aE1mqX9aRTJ2&line=1&uniqifier=1)\n"
      ]
    },
    {
      "cell_type": "code",
      "execution_count": null,
      "metadata": {
        "id": "ULvExL4Dr6os"
      },
      "outputs": [],
      "source": [
        "# Import the FAISS library for indexing the corpus.\n",
        "import faiss\n",
        "# dim is \"The dimension of the embeddings to pass to the HNSW Faiss index\"\n",
        "\n",
        "dim = 768\n",
        "\n",
        "#\"The number of bi-directional links created for every new element during the \n",
        "# HNSW index construction.\"\n",
        "\n",
        "m = 128\n",
        "\n",
        "#Let's us the FAISS implementation of HSNW for fast approximate nearest neighbor search\n",
        "index = faiss.IndexHNSWFlat(dim, m , faiss.METRIC_INNER_PRODUCT)\n"
      ]
    },
    {
      "cell_type": "markdown",
      "metadata": {
        "id": "l07BYkj6tXww"
      },
      "source": [
        "Two steps to building the index.\n",
        "train and add"
      ]
    },
    {
      "cell_type": "code",
      "execution_count": null,
      "metadata": {
        "colab": {
          "base_uri": "https://localhost:8080/"
        },
        "id": "P59fHpbitbpY",
        "outputId": "47ee7898-524a-4256-a440-6e5b98da95ed"
      },
      "outputs": [
        {
          "output_type": "stream",
          "name": "stdout",
          "text": [
            "Buidling the FAISS index...\n",
            "__DONE__\n",
            " Adding embeddings to index took 0:00:00\n"
          ]
        }
      ],
      "source": [
        "print('Buidling the FAISS index...')\n",
        "\n",
        "#Track elapsed time\n",
        "t0 = time.time()\n",
        "\n",
        "index.train(embeddings)\n",
        "\n",
        "index.add(embeddings)\n",
        "\n",
        "print('__DONE__')\n",
        "\n",
        "print(' Adding embeddings to index took' , format_time(time.time() -t0))"
      ]
    },
    {
      "cell_type": "markdown",
      "metadata": {
        "id": "ivKCtqkOt654"
      },
      "source": [
        "### **4.2 Example Search (DPR search illustration)**\n",
        "\n"
      ]
    },
    {
      "cell_type": "markdown",
      "metadata": {
        "id": "iv4u2Uo9uG7M"
      },
      "source": [
        "## **4.2.1 DPR Question Encoder**\n",
        "\n",
        "\n",
        "*   To perform a search against our DPR embeddings, we'll need to encode our query using the DPR question encoder which is separate from context encoder.\n",
        "\n",
        "\n"
      ]
    },
    {
      "cell_type": "code",
      "execution_count": null,
      "metadata": {
        "colab": {
          "base_uri": "https://localhost:8080/"
        },
        "id": "Gtt91TglvBY7",
        "outputId": "6606069f-d309-4a00-b76c-10398308f975"
      },
      "outputs": [
        {
          "output_type": "stream",
          "name": "stderr",
          "text": [
            "Some weights of the model checkpoint at facebook/dpr-question_encoder-multiset-base were not used when initializing DPRQuestionEncoder: ['question_encoder.bert_model.pooler.dense.weight', 'question_encoder.bert_model.pooler.dense.bias']\n",
            "- This IS expected if you are initializing DPRQuestionEncoder from the checkpoint of a model trained on another task or with another architecture (e.g. initializing a BertForSequenceClassification model from a BertForPreTraining model).\n",
            "- This IS NOT expected if you are initializing DPRQuestionEncoder from the checkpoint of a model that you expect to be exactly identical (initializing a BertForSequenceClassification model from a BertForSequenceClassification model).\n"
          ]
        }
      ],
      "source": [
        "from transformers import DPRQuestionEncoder\n",
        "\n",
        "#'The DPR context encoder model to use. \n",
        "#'Either 'facebook/dpr-question_encoder-single-nq-base' or\n",
        "#         'facebook/dpr-question_encoder-multiset-base'\n",
        "\n",
        "q_encoder = DPRQuestionEncoder.from_pretrained(\"facebook/dpr-question_encoder-multiset-base\")\n",
        "\n",
        "#Move the encoder model to the GPU.\n",
        "q_encoder = q_encoder.to(device=device)\n",
        "\n"
      ]
    },
    {
      "cell_type": "markdown",
      "metadata": {
        "id": "htZvI0cCwLny"
      },
      "source": [
        "Next we need question tokenizer"
      ]
    },
    {
      "cell_type": "code",
      "execution_count": null,
      "metadata": {
        "id": "f9Tp132rwOxH"
      },
      "outputs": [],
      "source": [
        "from transformers import DPRQuestionEncoderTokenizerFast\n",
        "\n",
        "#Load the tokenizer\n",
        "q_tokenizer = DPRQuestionEncoderTokenizerFast.from_pretrained(\"facebook/dpr-question_encoder-multiset-base\")"
      ]
    },
    {
      "cell_type": "markdown",
      "metadata": {
        "id": "HKuTgbRIw0ki"
      },
      "source": [
        "Try a question"
      ]
    },
    {
      "cell_type": "code",
      "execution_count": null,
      "metadata": {
        "colab": {
          "base_uri": "https://localhost:8080/"
        },
        "id": "hmcPALUPw1ts",
        "outputId": "2f5a0a4a-3e05-4fb5-ec86-433a6927e0ca"
      },
      "outputs": [
        {
          "output_type": "stream",
          "name": "stdout",
          "text": [
            "Query embedding:  (1, 768)\n"
          ]
        }
      ],
      "source": [
        "#Tokenize the question.\n",
        "input_ids = q_tokenizer.encode(\"How many hours is admission test?\", return_tensors=\"pt\")#return pytorch tensors\n",
        "\n",
        "#Move the question over to the GPU.\n",
        "input_ids = input_ids.to(device)\n",
        "\n",
        "#Run the question through BERT and generate the question embedding.\n",
        "outputs = q_encoder(input_ids)\n",
        "\n",
        "#The embedding is stored in the 'pooler_output' property.\n",
        "q_embed  = outputs['pooler_output']\n",
        "\n",
        "#Our FAISS index is on the CPU, not the GPU, so we need to transfer this \n",
        "#Question embedding over to the CPU to dou our search.\n",
        "\n",
        "q_embed = q_embed.cpu().numpy()\n",
        "\n",
        "#Check out the embedding's size\n",
        "print(\"Query embedding: \", q_embed.shape)\n",
        "\n"
      ]
    },
    {
      "cell_type": "markdown",
      "metadata": {
        "id": "FOD51Lv1yaVJ"
      },
      "source": [
        "Now we can perform the search using FAISS index!\n",
        "\n",
        "We call index.search and give it our question embedding and number of top matches that we want returned. \n",
        "The search function returns the indeces of the closes matching passages (in I), as well as the similarities between the query and each of thos results (in D)"
      ]
    },
    {
      "cell_type": "code",
      "execution_count": null,
      "metadata": {
        "colab": {
          "base_uri": "https://localhost:8080/"
        },
        "id": "0NAspUVIy4Tk",
        "outputId": "dca6ccad-9476-4050-90b8-08b3f636eb4f"
      },
      "outputs": [
        {
          "output_type": "stream",
          "name": "stdout",
          "text": [
            "Closest matching indeces: [[100]]\n",
            "Inner Products: [[71.28006]]\n",
            "71.28005981445312\n"
          ]
        }
      ],
      "source": [
        "#Find the k=3 most similar passages to the question embedding\n",
        "D, I = index.search(q_embed, k=1)\n",
        "\n",
        "#Print out the indeces and similarity scores. \n",
        "\n",
        "print(\"Closest matching indeces:\", I)\n",
        "print(\"Inner Products:\", D)\n",
        "score = D.tolist()\n",
        "print(score[0][0])\n"
      ]
    },
    {
      "cell_type": "markdown",
      "metadata": {
        "id": "XB3O1W_EzTNq"
      },
      "source": [
        "Map the results to original passages\n",
        "Use textwrap library"
      ]
    },
    {
      "cell_type": "code",
      "execution_count": null,
      "metadata": {
        "colab": {
          "base_uri": "https://localhost:8080/"
        },
        "id": "i98E1vF_zZK2",
        "outputId": "56d4be10-3254-45a4-f3fc-d729699c593d"
      },
      "outputs": [
        {
          "output_type": "stream",
          "name": "stdout",
          "text": [
            "Index:  100\n",
            "Article Title:  Admission test date instruction \n",
            "\n",
            "Passage:\n",
            "All candidates must bring one original photo ID (Passport or NID or HSC Registration Card). All candidates must report at least 30 min before the admission test. Cell phone, digital watch, calculator,\n",
            "tab, camera and hand bag will not be allowed in the exam hall. All candidates should bring pens, pencils, sharpeners, erasers etc\n",
            "\n"
          ]
        }
      ],
      "source": [
        "import textwrap\n",
        "\n",
        "#Wrap text to 80 characters\n",
        "\n",
        "wrapper= textwrap.TextWrapper(width = 200)\n",
        "\n",
        "#For each of the top 'k' results:\n",
        "\n",
        "for i in I[0]:\n",
        "    \n",
        "    print(\"Index: \",i )\n",
        "\n",
        "    #Retrieve passage and its title.\n",
        "    title = chunked_corpus['title'][i]\n",
        "    passage = chunked_corpus['text'][i]\n",
        "\n",
        "    print('Article Title: ',title, '\\n')\n",
        "\n",
        "    print('Passage:')\n",
        "    print(wrapper.fill(passage))\n",
        "\n",
        "    print('')"
      ]
    },
    {
      "cell_type": "code",
      "execution_count": null,
      "metadata": {
        "id": "IXI1L_nBwJpf"
      },
      "outputs": [],
      "source": [
        "def retrieve(question):\n",
        "  input_ids = q_tokenizer.encode(question, return_tensors=\"pt\")#return pytorch tensors\n",
        "\n",
        "  input_ids = input_ids.to(device)\n",
        "\n",
        "  outputs = q_encoder(input_ids)\n",
        "\n",
        "  q_embed  = outputs['pooler_output']\n",
        "\n",
        "  q_embed = q_embed.cpu().numpy()\n",
        "  \n",
        "  D, I = index.search(q_embed, k=3)\n",
        "  score = D.tolist()\n",
        "  c=0;\n",
        "  import textwrap\n",
        "\n",
        "  #Wrap text to 80 characters\n",
        "\n",
        "  wrapper= textwrap.TextWrapper(width = 80)\n",
        "\n",
        "  #For each of the top 'k' results:\n",
        "\n",
        "  for i in I[0]:\n",
        "      \n",
        "      print(\"Index: \",i )\n",
        "\n",
        "      #Retrieve passage and its title.\n",
        "      title = chunked_corpus['title'][i]\n",
        "      passage = chunked_corpus['text'][i]\n",
        "\n",
        "      print('Similarity Score: ',score[0][c], '\\n')\n",
        "      c=c+1\n",
        "      print('Article Title: ',title, '\\n')\n",
        "\n",
        "      print('Passage:')\n",
        "      print(wrapper.fill(passage))\n",
        "\n",
        "      print('')\n"
      ]
    },
    {
      "cell_type": "markdown",
      "metadata": {
        "id": "KQKwYOfp8GnL"
      },
      "source": [
        "# **5. Ask Questions Using RAG**\n",
        "Now we will use RAG model to generate answers to our example questions.\n"
      ]
    },
    {
      "cell_type": "markdown",
      "metadata": {
        "id": "yLT_lFfg8dcE"
      },
      "source": [
        "## Create the Model Objects\n",
        "\n",
        "Huggingface Dataset\n",
        "\n",
        "RAG requires that we place our reference data inta a Dataset object from huggingface datasets library. \n",
        "\n",
        "We will use [this](https://![image.png](data:image/png;base64,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)) cell for df"
      ]
    },
    {
      "cell_type": "code",
      "execution_count": null,
      "metadata": {
        "colab": {
          "base_uri": "https://localhost:8080/"
        },
        "id": "3mnHP4nh9vAs",
        "outputId": "50decc39-12f5-4fb6-9bac-ff93f343b637"
      },
      "outputs": [
        {
          "output_type": "stream",
          "name": "stdout",
          "text": [
            "Looking in indexes: https://pypi.org/simple, https://us-python.pkg.dev/colab-wheels/public/simple/\n",
            "Requirement already satisfied: datasets in /usr/local/lib/python3.7/dist-packages (2.4.0)\n",
            "Requirement already satisfied: psutil in /usr/local/lib/python3.7/dist-packages (5.4.8)\n",
            "Requirement already satisfied: tqdm>=4.62.1 in /usr/local/lib/python3.7/dist-packages (from datasets) (4.64.0)\n",
            "Requirement already satisfied: aiohttp in /usr/local/lib/python3.7/dist-packages (from datasets) (3.8.1)\n",
            "Requirement already satisfied: numpy>=1.17 in /usr/local/lib/python3.7/dist-packages (from datasets) (1.21.6)\n",
            "Requirement already satisfied: requests>=2.19.0 in /usr/local/lib/python3.7/dist-packages (from datasets) (2.23.0)\n",
            "Requirement already satisfied: responses<0.19 in /usr/local/lib/python3.7/dist-packages (from datasets) (0.18.0)\n",
            "Requirement already satisfied: importlib-metadata in /usr/local/lib/python3.7/dist-packages (from datasets) (4.12.0)\n",
            "Requirement already satisfied: packaging in /usr/local/lib/python3.7/dist-packages (from datasets) (21.3)\n",
            "Requirement already satisfied: pandas in /usr/local/lib/python3.7/dist-packages (from datasets) (1.3.5)\n",
            "Requirement already satisfied: pyarrow>=6.0.0 in /usr/local/lib/python3.7/dist-packages (from datasets) (6.0.1)\n",
            "Requirement already satisfied: dill<0.3.6 in /usr/local/lib/python3.7/dist-packages (from datasets) (0.3.5.1)\n",
            "Requirement already satisfied: huggingface-hub<1.0.0,>=0.1.0 in /usr/local/lib/python3.7/dist-packages (from datasets) (0.8.1)\n",
            "Requirement already satisfied: multiprocess in /usr/local/lib/python3.7/dist-packages (from datasets) (0.70.13)\n",
            "Requirement already satisfied: xxhash in /usr/local/lib/python3.7/dist-packages (from datasets) (3.0.0)\n",
            "Requirement already satisfied: fsspec[http]>=2021.11.1 in /usr/local/lib/python3.7/dist-packages (from datasets) (2022.7.1)\n",
            "Requirement already satisfied: pyyaml>=5.1 in /usr/local/lib/python3.7/dist-packages (from huggingface-hub<1.0.0,>=0.1.0->datasets) (6.0)\n",
            "Requirement already satisfied: filelock in /usr/local/lib/python3.7/dist-packages (from huggingface-hub<1.0.0,>=0.1.0->datasets) (3.7.1)\n",
            "Requirement already satisfied: typing-extensions>=3.7.4.3 in /usr/local/lib/python3.7/dist-packages (from huggingface-hub<1.0.0,>=0.1.0->datasets) (4.1.1)\n",
            "Requirement already satisfied: pyparsing!=3.0.5,>=2.0.2 in /usr/local/lib/python3.7/dist-packages (from packaging->datasets) (3.0.9)\n",
            "Requirement already satisfied: certifi>=2017.4.17 in /usr/local/lib/python3.7/dist-packages (from requests>=2.19.0->datasets) (2022.6.15)\n",
            "Requirement already satisfied: idna<3,>=2.5 in /usr/local/lib/python3.7/dist-packages (from requests>=2.19.0->datasets) (2.10)\n",
            "Requirement already satisfied: urllib3!=1.25.0,!=1.25.1,<1.26,>=1.21.1 in /usr/local/lib/python3.7/dist-packages (from requests>=2.19.0->datasets) (1.25.11)\n",
            "Requirement already satisfied: chardet<4,>=3.0.2 in /usr/local/lib/python3.7/dist-packages (from requests>=2.19.0->datasets) (3.0.4)\n",
            "Requirement already satisfied: charset-normalizer<3.0,>=2.0 in /usr/local/lib/python3.7/dist-packages (from aiohttp->datasets) (2.1.0)\n",
            "Requirement already satisfied: asynctest==0.13.0 in /usr/local/lib/python3.7/dist-packages (from aiohttp->datasets) (0.13.0)\n",
            "Requirement already satisfied: multidict<7.0,>=4.5 in /usr/local/lib/python3.7/dist-packages (from aiohttp->datasets) (6.0.2)\n",
            "Requirement already satisfied: yarl<2.0,>=1.0 in /usr/local/lib/python3.7/dist-packages (from aiohttp->datasets) (1.7.2)\n",
            "Requirement already satisfied: async-timeout<5.0,>=4.0.0a3 in /usr/local/lib/python3.7/dist-packages (from aiohttp->datasets) (4.0.2)\n",
            "Requirement already satisfied: frozenlist>=1.1.1 in /usr/local/lib/python3.7/dist-packages (from aiohttp->datasets) (1.3.0)\n",
            "Requirement already satisfied: aiosignal>=1.1.2 in /usr/local/lib/python3.7/dist-packages (from aiohttp->datasets) (1.2.0)\n",
            "Requirement already satisfied: attrs>=17.3.0 in /usr/local/lib/python3.7/dist-packages (from aiohttp->datasets) (21.4.0)\n",
            "Requirement already satisfied: zipp>=0.5 in /usr/local/lib/python3.7/dist-packages (from importlib-metadata->datasets) (3.8.1)\n",
            "Requirement already satisfied: pytz>=2017.3 in /usr/local/lib/python3.7/dist-packages (from pandas->datasets) (2022.1)\n",
            "Requirement already satisfied: python-dateutil>=2.7.3 in /usr/local/lib/python3.7/dist-packages (from pandas->datasets) (2.8.2)\n",
            "Requirement already satisfied: six>=1.5 in /usr/local/lib/python3.7/dist-packages (from python-dateutil>=2.7.3->pandas->datasets) (1.15.0)\n"
          ]
        }
      ],
      "source": [
        "!pip install datasets psutil"
      ]
    },
    {
      "cell_type": "code",
      "execution_count": null,
      "metadata": {
        "colab": {
          "base_uri": "https://localhost:8080/"
        },
        "id": "YbHktd1h9oE6",
        "outputId": "9c385e1b-efd3-4894-e8e4-bac983e8fb6d"
      },
      "outputs": [
        {
          "output_type": "stream",
          "name": "stdout",
          "text": [
            "Dataset({\n",
            "    features: ['title', 'text'],\n",
            "    num_rows: 200\n",
            "})\n"
          ]
        }
      ],
      "source": [
        "from datasets import Dataset\n",
        "\n",
        "#Convert dataframe into a hugginface dataset object\n",
        "dataset = Dataset.from_pandas(df)\n",
        "\n",
        "#Check the created object\n",
        "print(dataset)"
      ]
    },
    {
      "cell_type": "markdown",
      "metadata": {
        "id": "weB7RXT--viO"
      },
      "source": [
        "Next we need to add the passage embeddings.\n",
        "We have the embeddings as a numpy matrix named embeddings.\n",
        "Now we need them to be a list of arrays."
      ]
    },
    {
      "cell_type": "code",
      "execution_count": null,
      "metadata": {
        "id": "6ke67s5B-4SD"
      },
      "outputs": [],
      "source": [
        "emb_list = []\n",
        "\n",
        "#For each embedding...\n",
        "for i in range(embeddings.shape[0]):\n",
        "\n",
        "        #Add it to the list\n",
        "        emb_list.append(embeddings[i, :])"
      ]
    },
    {
      "cell_type": "markdown",
      "metadata": {
        "id": "KJbUI9me_jbg"
      },
      "source": [
        "Add them with 'add_column' function\n"
      ]
    },
    {
      "cell_type": "code",
      "execution_count": null,
      "metadata": {
        "colab": {
          "base_uri": "https://localhost:8080/"
        },
        "id": "QQUhAnzl_mhC",
        "outputId": "893691cd-8e2d-4854-aa1e-1738b6761823"
      },
      "outputs": [
        {
          "output_type": "execute_result",
          "data": {
            "text/plain": [
              "Dataset({\n",
              "    features: ['title', 'text', 'embeddings'],\n",
              "    num_rows: 200\n",
              "})"
            ]
          },
          "metadata": {},
          "execution_count": 28
        }
      ],
      "source": [
        "#Add the embeddings to the dataset as a new column.\n",
        "#This is not done in place\n",
        "\n",
        "dataset = dataset.add_column(\"embeddings\",emb_list)\n",
        "\n",
        "#Display the dataset contents\n",
        "dataset"
      ]
    },
    {
      "cell_type": "markdown",
      "metadata": {
        "id": "jDTJn-fbAYFx"
      },
      "source": [
        "Define a new index object and then pass it to the add_faiss_index. \n",
        "Then new index will be built."
      ]
    },
    {
      "cell_type": "code",
      "execution_count": null,
      "metadata": {
        "colab": {
          "base_uri": "https://localhost:8080/",
          "height": 118,
          "referenced_widgets": [
            "7ed5e44c59f54838aac3a37c2459bd82",
            "10d2745c21d549f4addc3c625e001181",
            "e0a731f5449b45e289f3fb683265b773",
            "4ff09e80490d4a56b99a31f21a4da34c",
            "7f6c206056194fbda065692d5b421da6",
            "6e556e5bdc0f4dd4ae4fbf7691eb1a1c",
            "c88ca4b6787e489a8133ac4fc0db8bb1",
            "ef9da75ff6fb4e859bc0d568d598c704",
            "9f72718c549f442e89b26716894b7430",
            "68562c2acc7144129ac761dd740990b5",
            "a19564e42a8f440f95aeb9c40d5299e0"
          ]
        },
        "id": "bK56pYIxAexP",
        "outputId": "066fdf1b-ca2a-4aec-a266-f2c308761e87"
      },
      "outputs": [
        {
          "output_type": "display_data",
          "data": {
            "text/plain": [
              "  0%|          | 0/1 [00:00<?, ?it/s]"
            ],
            "application/vnd.jupyter.widget-view+json": {
              "version_major": 2,
              "version_minor": 0,
              "model_id": "7ed5e44c59f54838aac3a37c2459bd82"
            }
          },
          "metadata": {}
        },
        {
          "output_type": "execute_result",
          "data": {
            "text/plain": [
              "Dataset({\n",
              "    features: ['title', 'text', 'embeddings'],\n",
              "    num_rows: 200\n",
              "})"
            ]
          },
          "metadata": {},
          "execution_count": 29
        }
      ],
      "source": [
        "index = faiss.IndexHNSWFlat(dim, m , faiss.METRIC_INNER_PRODUCT)\n",
        "\n",
        "dataset.add_faiss_index(column=\"embeddings\", index_name=\"embeddings\", custom_index = index, faiss_verbose= False)"
      ]
    },
    {
      "cell_type": "markdown",
      "metadata": {
        "id": "petjyYLoBLNg"
      },
      "source": [
        "Reference dataset ready to feed to RAG"
      ]
    },
    {
      "cell_type": "markdown",
      "metadata": {
        "id": "7G3bESCXBOIr"
      },
      "source": [
        "# **RAG Retriever**\n",
        "\n",
        "Previously we retrieved on our own, but this time we will use the RagRetriever class.\n",
        "\n",
        "The model is *rag-sequence-nq* \n",
        "Model Card can be found [here](https://huggingface.co/facebook/rag-sequence-nq)\n",
        "\n",
        "Two RAG variants - **RAG-Sequence** and **RAG-Token**.\n",
        "\n",
        "RAG-Sequence is less compute intensive, but it can't combine information from multiple passages. Instead, for each of the top 'k' passages returned by the Retirever, the Generator produces a separat answer, and then RAG chooses the most probable answer among the 'k' options.\n",
        "\n",
        "RAG-Token is capable of combining information ('multi-hop'). It generates a single answer to the question. All of the documents. All of the documents are taken into account as we generate each token of this answer.\n"
      ]
    },
    {
      "cell_type": "code",
      "execution_count": null,
      "metadata": {
        "colab": {
          "base_uri": "https://localhost:8080/"
        },
        "id": "BVZUteOzDV2m",
        "outputId": "0c694542-d0bf-484c-b54f-c1472d70056e"
      },
      "outputs": [
        {
          "output_type": "stream",
          "name": "stderr",
          "text": [
            "The tokenizer class you load from this checkpoint is not the same type as the class this function is called from. It may result in unexpected tokenization. \n",
            "The tokenizer class you load from this checkpoint is 'RagTokenizer'. \n",
            "The class this function is called from is 'DPRQuestionEncoderTokenizer'.\n",
            "The tokenizer class you load from this checkpoint is not the same type as the class this function is called from. It may result in unexpected tokenization. \n",
            "The tokenizer class you load from this checkpoint is 'RagTokenizer'. \n",
            "The class this function is called from is 'DPRQuestionEncoderTokenizerFast'.\n",
            "The tokenizer class you load from this checkpoint is not the same type as the class this function is called from. It may result in unexpected tokenization. \n",
            "The tokenizer class you load from this checkpoint is 'RagTokenizer'. \n",
            "The class this function is called from is 'BartTokenizer'.\n",
            "The tokenizer class you load from this checkpoint is not the same type as the class this function is called from. It may result in unexpected tokenization. \n",
            "The tokenizer class you load from this checkpoint is 'RagTokenizer'. \n",
            "The class this function is called from is 'BartTokenizerFast'.\n"
          ]
        }
      ],
      "source": [
        "from transformers import RagRetriever\n",
        "\n",
        "retriever = RagRetriever.from_pretrained(\n",
        "    \"facebook/rag-sequence-nq\",  #The pre-trained model we using\n",
        "\n",
        "    use_dummy_datset = False, # Dummy dataset (reduced wikipedia) not needed\n",
        "    \n",
        "    indexed_dataset = dataset, #Pass in our dataset\n",
        "\n",
        "    index_name=\"embeddings\", #Name of the column of FAISS index\n",
        ")"
      ]
    },
    {
      "cell_type": "markdown",
      "metadata": {
        "id": "bmnUUkfIKe96"
      },
      "source": [
        "## **Tokenizer**\n",
        "\n",
        "Load the tokenzier in order to tokenize our question.\n",
        "\n",
        "The RagTokeinzer contains multiple tokenizers - \n",
        "\n",
        "*   The question tokenzier is accessed with the question_endoder function\n",
        "\n"
      ]
    },
    {
      "cell_type": "code",
      "execution_count": null,
      "metadata": {
        "colab": {
          "base_uri": "https://localhost:8080/"
        },
        "id": "SpTAu9_uK4OB",
        "outputId": "423d54ff-4dfe-4fb6-975e-9deddacbc1e2"
      },
      "outputs": [
        {
          "output_type": "stream",
          "name": "stderr",
          "text": [
            "The tokenizer class you load from this checkpoint is not the same type as the class this function is called from. It may result in unexpected tokenization. \n",
            "The tokenizer class you load from this checkpoint is 'RagTokenizer'. \n",
            "The class this function is called from is 'DPRQuestionEncoderTokenizer'.\n",
            "The tokenizer class you load from this checkpoint is not the same type as the class this function is called from. It may result in unexpected tokenization. \n",
            "The tokenizer class you load from this checkpoint is 'RagTokenizer'. \n",
            "The class this function is called from is 'DPRQuestionEncoderTokenizerFast'.\n",
            "The tokenizer class you load from this checkpoint is not the same type as the class this function is called from. It may result in unexpected tokenization. \n",
            "The tokenizer class you load from this checkpoint is 'RagTokenizer'. \n",
            "The class this function is called from is 'BartTokenizer'.\n",
            "The tokenizer class you load from this checkpoint is not the same type as the class this function is called from. It may result in unexpected tokenization. \n",
            "The tokenizer class you load from this checkpoint is 'RagTokenizer'. \n",
            "The class this function is called from is 'BartTokenizerFast'.\n"
          ]
        }
      ],
      "source": [
        "from transformers import RagTokenizer \n",
        "\n",
        "tokenizer = RagTokenizer.from_pretrained(\n",
        "    \"facebook/rag-sequence-nq\"\n",
        ")\n"
      ]
    },
    {
      "cell_type": "markdown",
      "metadata": {
        "id": "bH_e-6KQLjzB"
      },
      "source": [
        "## Generator\n",
        "\n",
        "The Generator is represented by the class RagSequenceForGeneration.\n",
        "RagTokenGeneration for RAG token variant\n",
        "\n",
        "We pass the Retriever object to this Generator object"
      ]
    },
    {
      "cell_type": "code",
      "execution_count": null,
      "metadata": {
        "colab": {
          "base_uri": "https://localhost:8080/"
        },
        "id": "Fd23UoaTNHZO",
        "outputId": "d62a9823-9853-4c5a-f504-0b5d85af49ef"
      },
      "outputs": [
        {
          "output_type": "stream",
          "name": "stderr",
          "text": [
            "Some weights of the model checkpoint at facebook/rag-sequence-nq were not used when initializing RagSequenceForGeneration: ['rag.question_encoder.question_encoder.bert_model.pooler.dense.weight', 'rag.question_encoder.question_encoder.bert_model.pooler.dense.bias']\n",
            "- This IS expected if you are initializing RagSequenceForGeneration from the checkpoint of a model trained on another task or with another architecture (e.g. initializing a BertForSequenceClassification model from a BertForPreTraining model).\n",
            "- This IS NOT expected if you are initializing RagSequenceForGeneration from the checkpoint of a model that you expect to be exactly identical (initializing a BertForSequenceClassification model from a BertForSequenceClassification model).\n",
            "Some weights of RagSequenceForGeneration were not initialized from the model checkpoint at facebook/rag-sequence-nq and are newly initialized: ['rag.generator.lm_head.weight']\n",
            "You should probably TRAIN this model on a down-stream task to be able to use it for predictions and inference.\n"
          ]
        }
      ],
      "source": [
        "from transformers import RagSequenceForGeneration\n",
        "\n",
        "model = RagSequenceForGeneration.from_pretrained(\n",
        "    'facebook/rag-sequence-nq',\n",
        "    retriever = retriever\n",
        ")"
      ]
    },
    {
      "cell_type": "markdown",
      "metadata": {
        "id": "fu0-WtckOIid"
      },
      "source": [
        "## Questions\n",
        "\n",
        "Here everything is done inside the call to model.generate. This function takes in our question and generates answer.\n",
        "\n",
        "There are two additional steps.\n",
        "\n",
        "*   We need to call tokenizer.question_encoder to tokenize the question\n",
        "*   We call tokenizer.batch_decode at the end to convert the answer tokens back into a printable string.\n",
        "\n",
        "\n",
        "\n"
      ]
    },
    {
      "cell_type": "code",
      "execution_count": null,
      "metadata": {
        "colab": {
          "base_uri": "https://localhost:8080/"
        },
        "id": "Kt88FksCOyYA",
        "outputId": "3007748b-6dce-42c0-d25c-0a8001a09523"
      },
      "outputs": [
        {
          "output_type": "stream",
          "name": "stderr",
          "text": [
            "/usr/local/lib/python3.7/dist-packages/transformers/generation_utils.py:1207: UserWarning: Neither `max_length` nor `max_new_tokens` have been set, `max_length` will default to 20 (`self.config.max_length`). Controlling `max_length` via the config is deprecated and `max_length` will be removed from the config in v5 of Transformers -- we recommend using `max_new_tokens` to control the maximum length of the generation.\n",
            "  UserWarning,\n"
          ]
        },
        {
          "output_type": "stream",
          "name": "stdout",
          "text": [
            "Q: How many hours is the admission test?\n",
            "A:  two and a half hours\n",
            "\n",
            "Response took 139.19 seconds\n"
          ]
        }
      ],
      "source": [
        "import time\n",
        "\n",
        "t0 = time.time()\n",
        "\n",
        "question = \"How many hours is the admission test?\"\n",
        "\n",
        "#Tokenize the question\n",
        "input_ids = tokenizer.question_encoder(question, return_tensors='pt')[\"input_ids\"]\n",
        "\n",
        "#Give the question to RAG \n",
        "generated = model.generate(input_ids)\n",
        "\n",
        "#Convert the answer tokens back into a single string\n",
        "generated_string = tokenizer.batch_decode(generated, skip_special_tokens=True)[0]\n",
        "\n",
        "print(\"Q: \" + question)\n",
        "print(\"A: \" + generated_string)\n",
        "\n",
        "print('\\nResponse took %.2f seconds' % (time.time()-t0))\n",
        "\n"
      ]
    },
    {
      "cell_type": "markdown",
      "metadata": {
        "id": "8L9gUGrFRMjZ"
      },
      "source": [
        "Make a fucntion for all these hard work 😪"
      ]
    },
    {
      "cell_type": "code",
      "execution_count": null,
      "metadata": {
        "id": "_BhSOIrqRLs5"
      },
      "outputs": [],
      "source": [
        "def bolo(question):\n",
        "  t0 = time.time()\n",
        "\n",
        "  #Tokenize the question\n",
        "  input_ids = tokenizer.question_encoder(question, return_tensors='pt')[\"input_ids\"]\n",
        "\n",
        "  #Give the question to RAG \n",
        "  generated = model.generate(input_ids)\n",
        "\n",
        "  #Convert the answer tokens back into a single string\n",
        "  generated_string = tokenizer.batch_decode(generated, skip_special_tokens=True)[0]\n",
        "\n",
        "  print(\"Q: \" + question)\n",
        "  print(\"A: \" + generated_string)\n",
        "\n",
        "  print('\\nResponse took %.2f seconds' % (time.time()-t0))\n",
        "  print('\\n')\n",
        "  retrieve(question)\n",
        "  "
      ]
    },
    {
      "cell_type": "code",
      "source": [
        "!pip install openai"
      ],
      "metadata": {
        "id": "IfCTFIauFZ7q",
        "colab": {
          "base_uri": "https://localhost:8080/"
        },
        "outputId": "749ff63e-e2bc-42f1-c361-7a7d791ad92e"
      },
      "execution_count": null,
      "outputs": [
        {
          "output_type": "stream",
          "name": "stdout",
          "text": [
            "Looking in indexes: https://pypi.org/simple, https://us-python.pkg.dev/colab-wheels/public/simple/\n",
            "Requirement already satisfied: openai in /usr/local/lib/python3.7/dist-packages (0.20.0)\n",
            "Requirement already satisfied: openpyxl>=3.0.7 in /usr/local/lib/python3.7/dist-packages (from openai) (3.0.10)\n",
            "Requirement already satisfied: pandas-stubs>=1.1.0.11 in /usr/local/lib/python3.7/dist-packages (from openai) (1.2.0.62)\n",
            "Requirement already satisfied: requests>=2.20 in /usr/local/lib/python3.7/dist-packages (from openai) (2.23.0)\n",
            "Requirement already satisfied: pandas>=1.2.3 in /usr/local/lib/python3.7/dist-packages (from openai) (1.3.5)\n",
            "Requirement already satisfied: tqdm in /usr/local/lib/python3.7/dist-packages (from openai) (4.64.0)\n",
            "Requirement already satisfied: et-xmlfile in /usr/local/lib/python3.7/dist-packages (from openpyxl>=3.0.7->openai) (1.1.0)\n",
            "Requirement already satisfied: numpy>=1.17.3 in /usr/local/lib/python3.7/dist-packages (from pandas>=1.2.3->openai) (1.21.6)\n",
            "Requirement already satisfied: python-dateutil>=2.7.3 in /usr/local/lib/python3.7/dist-packages (from pandas>=1.2.3->openai) (2.8.2)\n",
            "Requirement already satisfied: pytz>=2017.3 in /usr/local/lib/python3.7/dist-packages (from pandas>=1.2.3->openai) (2022.1)\n",
            "Requirement already satisfied: typing-extensions>=3.7.4.3 in /usr/local/lib/python3.7/dist-packages (from pandas-stubs>=1.1.0.11->openai) (4.1.1)\n",
            "Requirement already satisfied: six>=1.5 in /usr/local/lib/python3.7/dist-packages (from python-dateutil>=2.7.3->pandas>=1.2.3->openai) (1.15.0)\n",
            "Requirement already satisfied: urllib3!=1.25.0,!=1.25.1,<1.26,>=1.21.1 in /usr/local/lib/python3.7/dist-packages (from requests>=2.20->openai) (1.25.11)\n",
            "Requirement already satisfied: chardet<4,>=3.0.2 in /usr/local/lib/python3.7/dist-packages (from requests>=2.20->openai) (3.0.4)\n",
            "Requirement already satisfied: certifi>=2017.4.17 in /usr/local/lib/python3.7/dist-packages (from requests>=2.20->openai) (2022.6.15)\n",
            "Requirement already satisfied: idna<3,>=2.5 in /usr/local/lib/python3.7/dist-packages (from requests>=2.20->openai) (2.10)\n"
          ]
        }
      ]
    },
    {
      "cell_type": "code",
      "source": [
        "bolo(\"How long is the admission exam?\")"
      ],
      "metadata": {
        "colab": {
          "base_uri": "https://localhost:8080/"
        },
        "id": "H5IFMc52I0w5",
        "outputId": "a3f8207b-9c79-413d-d98e-aa7177ed46b6"
      },
      "execution_count": null,
      "outputs": [
        {
          "output_type": "stream",
          "name": "stderr",
          "text": [
            "/usr/local/lib/python3.7/dist-packages/transformers/generation_utils.py:1207: UserWarning: Neither `max_length` nor `max_new_tokens` have been set, `max_length` will default to 20 (`self.config.max_length`). Controlling `max_length` via the config is deprecated and `max_length` will be removed from the config in v5 of Transformers -- we recommend using `max_new_tokens` to control the maximum length of the generation.\n",
            "  UserWarning,\n"
          ]
        },
        {
          "output_type": "stream",
          "name": "stdout",
          "text": [
            "Q: How long is the admission exam?\n",
            "A:  two and a half hours\n",
            "\n",
            "Response took 160.93 seconds\n",
            "\n",
            "\n",
            "Index:  100\n",
            "Similarity Score:  72.23214721679688 \n",
            "\n",
            "Article Title:  Admission test date instruction \n",
            "\n",
            "Passage:\n",
            "All candidates must bring one original photo ID (Passport or NID or HSC\n",
            "Registration Card). All candidates must report at least 30 min before the\n",
            "admission test. Cell phone, digital watch, calculator, tab, camera and hand bag\n",
            "will not be allowed in the exam hall. All candidates should bring pens, pencils,\n",
            "sharpeners, erasers etc\n",
            "\n",
            "Index:  99\n",
            "Similarity Score:  71.05757141113281 \n",
            "\n",
            "Article Title:  Required Documents for admission \n",
            "\n",
            "Passage:\n",
            "(a) SSC/O-levels mark sheet and certificate (b) HSC/A-levels mark sheet and\n",
            "certificate (c) Two recent passport size photographs of candidate and parents\n",
            "(d) Candidate's Photo and parent's NID/Passport\n",
            "\n",
            "Index:  68\n",
            "Similarity Score:  69.94081115722656 \n",
            "\n",
            "Article Title:  Undergraduate online admission process \n",
            "\n",
            "Passage:\n",
            "Print your admit card Print your admit card to sit for the exam. Finally, bring\n",
            "your printed Admit Card with you on Admission Exam day.\n",
            "\n"
          ]
        }
      ]
    },
    {
      "cell_type": "markdown",
      "metadata": {
        "id": "CH9uIARveoub"
      },
      "source": [
        "bolo(\" \")"
      ]
    }
  ],
  "metadata": {
    "accelerator": "GPU",
    "colab": {
      "name": "QA_RAG.ipynb",
      "provenance": [],
      "include_colab_link": true
    },
    "gpuClass": "standard",
    "kernelspec": {
      "display_name": "Python 3",
      "name": "python3"
    },
    "language_info": {
      "name": "python"
    },
    "widgets": {
      "application/vnd.jupyter.widget-state+json": {
        "7ed5e44c59f54838aac3a37c2459bd82": {
          "model_module": "@jupyter-widgets/controls",
          "model_name": "HBoxModel",
          "model_module_version": "1.5.0",
          "state": {
            "_dom_classes": [],
            "_model_module": "@jupyter-widgets/controls",
            "_model_module_version": "1.5.0",
            "_model_name": "HBoxModel",
            "_view_count": null,
            "_view_module": "@jupyter-widgets/controls",
            "_view_module_version": "1.5.0",
            "_view_name": "HBoxView",
            "box_style": "",
            "children": [
              "IPY_MODEL_10d2745c21d549f4addc3c625e001181",
              "IPY_MODEL_e0a731f5449b45e289f3fb683265b773",
              "IPY_MODEL_4ff09e80490d4a56b99a31f21a4da34c"
            ],
            "layout": "IPY_MODEL_7f6c206056194fbda065692d5b421da6"
          }
        },
        "10d2745c21d549f4addc3c625e001181": {
          "model_module": "@jupyter-widgets/controls",
          "model_name": "HTMLModel",
          "model_module_version": "1.5.0",
          "state": {
            "_dom_classes": [],
            "_model_module": "@jupyter-widgets/controls",
            "_model_module_version": "1.5.0",
            "_model_name": "HTMLModel",
            "_view_count": null,
            "_view_module": "@jupyter-widgets/controls",
            "_view_module_version": "1.5.0",
            "_view_name": "HTMLView",
            "description": "",
            "description_tooltip": null,
            "layout": "IPY_MODEL_6e556e5bdc0f4dd4ae4fbf7691eb1a1c",
            "placeholder": "​",
            "style": "IPY_MODEL_c88ca4b6787e489a8133ac4fc0db8bb1",
            "value": "100%"
          }
        },
        "e0a731f5449b45e289f3fb683265b773": {
          "model_module": "@jupyter-widgets/controls",
          "model_name": "FloatProgressModel",
          "model_module_version": "1.5.0",
          "state": {
            "_dom_classes": [],
            "_model_module": "@jupyter-widgets/controls",
            "_model_module_version": "1.5.0",
            "_model_name": "FloatProgressModel",
            "_view_count": null,
            "_view_module": "@jupyter-widgets/controls",
            "_view_module_version": "1.5.0",
            "_view_name": "ProgressView",
            "bar_style": "success",
            "description": "",
            "description_tooltip": null,
            "layout": "IPY_MODEL_ef9da75ff6fb4e859bc0d568d598c704",
            "max": 1,
            "min": 0,
            "orientation": "horizontal",
            "style": "IPY_MODEL_9f72718c549f442e89b26716894b7430",
            "value": 1
          }
        },
        "4ff09e80490d4a56b99a31f21a4da34c": {
          "model_module": "@jupyter-widgets/controls",
          "model_name": "HTMLModel",
          "model_module_version": "1.5.0",
          "state": {
            "_dom_classes": [],
            "_model_module": "@jupyter-widgets/controls",
            "_model_module_version": "1.5.0",
            "_model_name": "HTMLModel",
            "_view_count": null,
            "_view_module": "@jupyter-widgets/controls",
            "_view_module_version": "1.5.0",
            "_view_name": "HTMLView",
            "description": "",
            "description_tooltip": null,
            "layout": "IPY_MODEL_68562c2acc7144129ac761dd740990b5",
            "placeholder": "​",
            "style": "IPY_MODEL_a19564e42a8f440f95aeb9c40d5299e0",
            "value": " 1/1 [00:00&lt;00:00, 16.08it/s]"
          }
        },
        "7f6c206056194fbda065692d5b421da6": {
          "model_module": "@jupyter-widgets/base",
          "model_name": "LayoutModel",
          "model_module_version": "1.2.0",
          "state": {
            "_model_module": "@jupyter-widgets/base",
            "_model_module_version": "1.2.0",
            "_model_name": "LayoutModel",
            "_view_count": null,
            "_view_module": "@jupyter-widgets/base",
            "_view_module_version": "1.2.0",
            "_view_name": "LayoutView",
            "align_content": null,
            "align_items": null,
            "align_self": null,
            "border": null,
            "bottom": null,
            "display": null,
            "flex": null,
            "flex_flow": null,
            "grid_area": null,
            "grid_auto_columns": null,
            "grid_auto_flow": null,
            "grid_auto_rows": null,
            "grid_column": null,
            "grid_gap": null,
            "grid_row": null,
            "grid_template_areas": null,
            "grid_template_columns": null,
            "grid_template_rows": null,
            "height": null,
            "justify_content": null,
            "justify_items": null,
            "left": null,
            "margin": null,
            "max_height": null,
            "max_width": null,
            "min_height": null,
            "min_width": null,
            "object_fit": null,
            "object_position": null,
            "order": null,
            "overflow": null,
            "overflow_x": null,
            "overflow_y": null,
            "padding": null,
            "right": null,
            "top": null,
            "visibility": null,
            "width": null
          }
        },
        "6e556e5bdc0f4dd4ae4fbf7691eb1a1c": {
          "model_module": "@jupyter-widgets/base",
          "model_name": "LayoutModel",
          "model_module_version": "1.2.0",
          "state": {
            "_model_module": "@jupyter-widgets/base",
            "_model_module_version": "1.2.0",
            "_model_name": "LayoutModel",
            "_view_count": null,
            "_view_module": "@jupyter-widgets/base",
            "_view_module_version": "1.2.0",
            "_view_name": "LayoutView",
            "align_content": null,
            "align_items": null,
            "align_self": null,
            "border": null,
            "bottom": null,
            "display": null,
            "flex": null,
            "flex_flow": null,
            "grid_area": null,
            "grid_auto_columns": null,
            "grid_auto_flow": null,
            "grid_auto_rows": null,
            "grid_column": null,
            "grid_gap": null,
            "grid_row": null,
            "grid_template_areas": null,
            "grid_template_columns": null,
            "grid_template_rows": null,
            "height": null,
            "justify_content": null,
            "justify_items": null,
            "left": null,
            "margin": null,
            "max_height": null,
            "max_width": null,
            "min_height": null,
            "min_width": null,
            "object_fit": null,
            "object_position": null,
            "order": null,
            "overflow": null,
            "overflow_x": null,
            "overflow_y": null,
            "padding": null,
            "right": null,
            "top": null,
            "visibility": null,
            "width": null
          }
        },
        "c88ca4b6787e489a8133ac4fc0db8bb1": {
          "model_module": "@jupyter-widgets/controls",
          "model_name": "DescriptionStyleModel",
          "model_module_version": "1.5.0",
          "state": {
            "_model_module": "@jupyter-widgets/controls",
            "_model_module_version": "1.5.0",
            "_model_name": "DescriptionStyleModel",
            "_view_count": null,
            "_view_module": "@jupyter-widgets/base",
            "_view_module_version": "1.2.0",
            "_view_name": "StyleView",
            "description_width": ""
          }
        },
        "ef9da75ff6fb4e859bc0d568d598c704": {
          "model_module": "@jupyter-widgets/base",
          "model_name": "LayoutModel",
          "model_module_version": "1.2.0",
          "state": {
            "_model_module": "@jupyter-widgets/base",
            "_model_module_version": "1.2.0",
            "_model_name": "LayoutModel",
            "_view_count": null,
            "_view_module": "@jupyter-widgets/base",
            "_view_module_version": "1.2.0",
            "_view_name": "LayoutView",
            "align_content": null,
            "align_items": null,
            "align_self": null,
            "border": null,
            "bottom": null,
            "display": null,
            "flex": null,
            "flex_flow": null,
            "grid_area": null,
            "grid_auto_columns": null,
            "grid_auto_flow": null,
            "grid_auto_rows": null,
            "grid_column": null,
            "grid_gap": null,
            "grid_row": null,
            "grid_template_areas": null,
            "grid_template_columns": null,
            "grid_template_rows": null,
            "height": null,
            "justify_content": null,
            "justify_items": null,
            "left": null,
            "margin": null,
            "max_height": null,
            "max_width": null,
            "min_height": null,
            "min_width": null,
            "object_fit": null,
            "object_position": null,
            "order": null,
            "overflow": null,
            "overflow_x": null,
            "overflow_y": null,
            "padding": null,
            "right": null,
            "top": null,
            "visibility": null,
            "width": null
          }
        },
        "9f72718c549f442e89b26716894b7430": {
          "model_module": "@jupyter-widgets/controls",
          "model_name": "ProgressStyleModel",
          "model_module_version": "1.5.0",
          "state": {
            "_model_module": "@jupyter-widgets/controls",
            "_model_module_version": "1.5.0",
            "_model_name": "ProgressStyleModel",
            "_view_count": null,
            "_view_module": "@jupyter-widgets/base",
            "_view_module_version": "1.2.0",
            "_view_name": "StyleView",
            "bar_color": null,
            "description_width": ""
          }
        },
        "68562c2acc7144129ac761dd740990b5": {
          "model_module": "@jupyter-widgets/base",
          "model_name": "LayoutModel",
          "model_module_version": "1.2.0",
          "state": {
            "_model_module": "@jupyter-widgets/base",
            "_model_module_version": "1.2.0",
            "_model_name": "LayoutModel",
            "_view_count": null,
            "_view_module": "@jupyter-widgets/base",
            "_view_module_version": "1.2.0",
            "_view_name": "LayoutView",
            "align_content": null,
            "align_items": null,
            "align_self": null,
            "border": null,
            "bottom": null,
            "display": null,
            "flex": null,
            "flex_flow": null,
            "grid_area": null,
            "grid_auto_columns": null,
            "grid_auto_flow": null,
            "grid_auto_rows": null,
            "grid_column": null,
            "grid_gap": null,
            "grid_row": null,
            "grid_template_areas": null,
            "grid_template_columns": null,
            "grid_template_rows": null,
            "height": null,
            "justify_content": null,
            "justify_items": null,
            "left": null,
            "margin": null,
            "max_height": null,
            "max_width": null,
            "min_height": null,
            "min_width": null,
            "object_fit": null,
            "object_position": null,
            "order": null,
            "overflow": null,
            "overflow_x": null,
            "overflow_y": null,
            "padding": null,
            "right": null,
            "top": null,
            "visibility": null,
            "width": null
          }
        },
        "a19564e42a8f440f95aeb9c40d5299e0": {
          "model_module": "@jupyter-widgets/controls",
          "model_name": "DescriptionStyleModel",
          "model_module_version": "1.5.0",
          "state": {
            "_model_module": "@jupyter-widgets/controls",
            "_model_module_version": "1.5.0",
            "_model_name": "DescriptionStyleModel",
            "_view_count": null,
            "_view_module": "@jupyter-widgets/base",
            "_view_module_version": "1.2.0",
            "_view_name": "StyleView",
            "description_width": ""
          }
        }
      }
    }
  },
  "nbformat": 4,
  "nbformat_minor": 0
}